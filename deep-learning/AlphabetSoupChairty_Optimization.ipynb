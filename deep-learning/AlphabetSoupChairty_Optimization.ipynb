{
  "cells": [
    {
      "cell_type": "code",
      "execution_count": 2,
      "metadata": {
        "colab": {
          "base_uri": "https://localhost:8080/",
          "height": 397
        },
        "id": "fea4ZNOXCQAY",
        "outputId": "fdd0c971-9c5c-464f-e553-5302408b3eac"
      },
      "outputs": [
        {
          "data": {
            "text/html": [
              "<div>\n",
              "<style scoped>\n",
              "    .dataframe tbody tr th:only-of-type {\n",
              "        vertical-align: middle;\n",
              "    }\n",
              "\n",
              "    .dataframe tbody tr th {\n",
              "        vertical-align: top;\n",
              "    }\n",
              "\n",
              "    .dataframe thead th {\n",
              "        text-align: right;\n",
              "    }\n",
              "</style>\n",
              "<table border=\"1\" class=\"dataframe\">\n",
              "  <thead>\n",
              "    <tr style=\"text-align: right;\">\n",
              "      <th></th>\n",
              "      <th>EIN</th>\n",
              "      <th>NAME</th>\n",
              "      <th>APPLICATION_TYPE</th>\n",
              "      <th>AFFILIATION</th>\n",
              "      <th>CLASSIFICATION</th>\n",
              "      <th>USE_CASE</th>\n",
              "      <th>ORGANIZATION</th>\n",
              "      <th>STATUS</th>\n",
              "      <th>INCOME_AMT</th>\n",
              "      <th>SPECIAL_CONSIDERATIONS</th>\n",
              "      <th>ASK_AMT</th>\n",
              "      <th>IS_SUCCESSFUL</th>\n",
              "    </tr>\n",
              "  </thead>\n",
              "  <tbody>\n",
              "    <tr>\n",
              "      <th>0</th>\n",
              "      <td>10520599</td>\n",
              "      <td>BLUE KNIGHTS MOTORCYCLE CLUB</td>\n",
              "      <td>T10</td>\n",
              "      <td>Independent</td>\n",
              "      <td>C1000</td>\n",
              "      <td>ProductDev</td>\n",
              "      <td>Association</td>\n",
              "      <td>1</td>\n",
              "      <td>0</td>\n",
              "      <td>N</td>\n",
              "      <td>5000</td>\n",
              "      <td>1</td>\n",
              "    </tr>\n",
              "    <tr>\n",
              "      <th>1</th>\n",
              "      <td>10531628</td>\n",
              "      <td>AMERICAN CHESAPEAKE CLUB CHARITABLE TR</td>\n",
              "      <td>T3</td>\n",
              "      <td>Independent</td>\n",
              "      <td>C2000</td>\n",
              "      <td>Preservation</td>\n",
              "      <td>Co-operative</td>\n",
              "      <td>1</td>\n",
              "      <td>1-9999</td>\n",
              "      <td>N</td>\n",
              "      <td>108590</td>\n",
              "      <td>1</td>\n",
              "    </tr>\n",
              "    <tr>\n",
              "      <th>2</th>\n",
              "      <td>10547893</td>\n",
              "      <td>ST CLOUD PROFESSIONAL FIREFIGHTERS</td>\n",
              "      <td>T5</td>\n",
              "      <td>CompanySponsored</td>\n",
              "      <td>C3000</td>\n",
              "      <td>ProductDev</td>\n",
              "      <td>Association</td>\n",
              "      <td>1</td>\n",
              "      <td>0</td>\n",
              "      <td>N</td>\n",
              "      <td>5000</td>\n",
              "      <td>0</td>\n",
              "    </tr>\n",
              "    <tr>\n",
              "      <th>3</th>\n",
              "      <td>10553066</td>\n",
              "      <td>SOUTHSIDE ATHLETIC ASSOCIATION</td>\n",
              "      <td>T3</td>\n",
              "      <td>CompanySponsored</td>\n",
              "      <td>C2000</td>\n",
              "      <td>Preservation</td>\n",
              "      <td>Trust</td>\n",
              "      <td>1</td>\n",
              "      <td>10000-24999</td>\n",
              "      <td>N</td>\n",
              "      <td>6692</td>\n",
              "      <td>1</td>\n",
              "    </tr>\n",
              "    <tr>\n",
              "      <th>4</th>\n",
              "      <td>10556103</td>\n",
              "      <td>GENETIC RESEARCH INSTITUTE OF THE DESERT</td>\n",
              "      <td>T3</td>\n",
              "      <td>Independent</td>\n",
              "      <td>C1000</td>\n",
              "      <td>Heathcare</td>\n",
              "      <td>Trust</td>\n",
              "      <td>1</td>\n",
              "      <td>100000-499999</td>\n",
              "      <td>N</td>\n",
              "      <td>142590</td>\n",
              "      <td>1</td>\n",
              "    </tr>\n",
              "  </tbody>\n",
              "</table>\n",
              "</div>"
            ],
            "text/plain": [
              "        EIN                                      NAME APPLICATION_TYPE  \\\n",
              "0  10520599              BLUE KNIGHTS MOTORCYCLE CLUB              T10   \n",
              "1  10531628    AMERICAN CHESAPEAKE CLUB CHARITABLE TR               T3   \n",
              "2  10547893        ST CLOUD PROFESSIONAL FIREFIGHTERS               T5   \n",
              "3  10553066            SOUTHSIDE ATHLETIC ASSOCIATION               T3   \n",
              "4  10556103  GENETIC RESEARCH INSTITUTE OF THE DESERT               T3   \n",
              "\n",
              "        AFFILIATION CLASSIFICATION      USE_CASE  ORGANIZATION  STATUS  \\\n",
              "0       Independent          C1000    ProductDev   Association       1   \n",
              "1       Independent          C2000  Preservation  Co-operative       1   \n",
              "2  CompanySponsored          C3000    ProductDev   Association       1   \n",
              "3  CompanySponsored          C2000  Preservation         Trust       1   \n",
              "4       Independent          C1000     Heathcare         Trust       1   \n",
              "\n",
              "      INCOME_AMT SPECIAL_CONSIDERATIONS  ASK_AMT  IS_SUCCESSFUL  \n",
              "0              0                      N     5000              1  \n",
              "1         1-9999                      N   108590              1  \n",
              "2              0                      N     5000              0  \n",
              "3    10000-24999                      N     6692              1  \n",
              "4  100000-499999                      N   142590              1  "
            ]
          },
          "execution_count": 2,
          "metadata": {},
          "output_type": "execute_result"
        }
      ],
      "source": [
        "# Import our dependencies\n",
        "from sklearn.model_selection import train_test_split\n",
        "from sklearn.preprocessing import StandardScaler\n",
        "import pandas as pd\n",
        "import tensorflow as tf\n",
        "\n",
        "#  Import and read the charity_data.csv.\n",
        "import pandas as pd\n",
        "application_df = pd.read_csv(\"https://static.bc-edx.com/data/dl-1-2/m21/lms/starter/charity_data.csv\")\n",
        "application_df.head()"
      ]
    },
    {
      "cell_type": "code",
      "execution_count": 3,
      "metadata": {
        "id": "SIyChQq-C8gF"
      },
      "outputs": [],
      "source": [
        "# Drop the non-beneficial ID columns, 'EIN' and 'NAME'.\n",
        "application_df = application_df.drop(columns=[\"EIN\", \"NAME\", \"STATUS\"], axis=1)"
      ]
    },
    {
      "cell_type": "code",
      "execution_count": 4,
      "metadata": {
        "colab": {
          "base_uri": "https://localhost:8080/"
        },
        "id": "MIju5MeVEAsV",
        "outputId": "5995e06e-832e-4403-b493-d20fb14f3d17"
      },
      "outputs": [
        {
          "name": "stdout",
          "output_type": "stream",
          "text": [
            "T3     27037\n",
            "T4      1542\n",
            "T6      1216\n",
            "T5      1173\n",
            "T19     1065\n",
            "T8       737\n",
            "T7       725\n",
            "T10      528\n",
            "T9       156\n",
            "T13       66\n",
            "T12       27\n",
            "T2        16\n",
            "T25        3\n",
            "T14        3\n",
            "T29        2\n",
            "T15        2\n",
            "T17        1\n",
            "Name: APPLICATION_TYPE, dtype: int64\n"
          ]
        }
      ],
      "source": [
        "# Look at APPLICATION_TYPE value counts for binning\n",
        "application_type_counts = application_df[\"APPLICATION_TYPE\"].value_counts()\n",
        "print(application_type_counts)"
      ]
    },
    {
      "cell_type": "code",
      "execution_count": 5,
      "metadata": {
        "id": "tJ--BGFyET1N"
      },
      "outputs": [],
      "source": [
        "# Determine a cutoff value based on the number of data points for each unique value\n",
        "cutoff = 150\n",
        "\n",
        "# Create a list of application types to be replaced with \"Other\"\n",
        "application_types_to_replace = application_type_counts[application_type_counts < cutoff].index.tolist()\n",
        "\n",
        "# Replace the specified application types with \"Other\" in the DataFrame\n",
        "application_df['APPLICATION_TYPE'] = application_df['APPLICATION_TYPE'].apply(\n",
        "    lambda x: \"Other\" if x in application_types_to_replace else x\n",
        ")\n"
      ]
    },
    {
      "cell_type": "code",
      "execution_count": 6,
      "metadata": {
        "colab": {
          "base_uri": "https://localhost:8080/"
        },
        "id": "1724WoFnEmGf",
        "outputId": "b5404295-7bab-47ef-d308-e759255e635d"
      },
      "outputs": [
        {
          "name": "stdout",
          "output_type": "stream",
          "text": [
            "C1000    17326\n",
            "C2000     6074\n",
            "C1200     4837\n",
            "C3000     1918\n",
            "C2100     1883\n",
            "         ...  \n",
            "C4120        1\n",
            "C8210        1\n",
            "C2561        1\n",
            "C4500        1\n",
            "C2150        1\n",
            "Name: CLASSIFICATION, Length: 71, dtype: int64\n"
          ]
        }
      ],
      "source": [
        "# Look at CLASSIFICATION value counts for binning\n",
        "classification_counts = application_df[\"CLASSIFICATION\"].value_counts()\n",
        "print(classification_counts)"
      ]
    },
    {
      "cell_type": "code",
      "execution_count": 7,
      "metadata": {
        "colab": {
          "base_uri": "https://localhost:8080/"
        },
        "id": "Gdu_Y-2XEnGL",
        "outputId": "5186dc9e-1c79-4a78-8829-4bc1535cd683"
      },
      "outputs": [
        {
          "name": "stdout",
          "output_type": "stream",
          "text": [
            "C1000    17326\n",
            "C2000     6074\n",
            "C1200     4837\n",
            "C3000     1918\n",
            "C2100     1883\n",
            "C7000      777\n",
            "C1700      287\n",
            "C4000      194\n",
            "C5000      116\n",
            "C1270      114\n",
            "C2700      104\n",
            "C2800       95\n",
            "C7100       75\n",
            "C1300       58\n",
            "C1280       50\n",
            "C1230       36\n",
            "C1400       34\n",
            "C7200       32\n",
            "C2300       32\n",
            "C1240       30\n",
            "C8000       20\n",
            "C7120       18\n",
            "C1500       16\n",
            "C1800       15\n",
            "C6000       15\n",
            "C1250       14\n",
            "C8200       11\n",
            "C1238       10\n",
            "C1278       10\n",
            "C1235        9\n",
            "C1237        9\n",
            "C7210        7\n",
            "C2400        6\n",
            "C1720        6\n",
            "C4100        6\n",
            "C1257        5\n",
            "C1600        5\n",
            "C1260        3\n",
            "C2710        3\n",
            "C0           3\n",
            "C3200        2\n",
            "C1234        2\n",
            "C1246        2\n",
            "C1267        2\n",
            "C1256        2\n",
            "Name: CLASSIFICATION, dtype: int64\n"
          ]
        }
      ],
      "source": [
        "# You may find it helpful to look at CLASSIFICATION value counts >1\n",
        "classification_counts = application_df[\"CLASSIFICATION\"].value_counts()\n",
        "classification_counts_greater_than_one = classification_counts[classification_counts > 1]\n",
        "print(classification_counts_greater_than_one)"
      ]
    },
    {
      "cell_type": "code",
      "execution_count": 8,
      "metadata": {
        "colab": {
          "base_uri": "https://localhost:8080/"
        },
        "id": "5uFZwcMpEqZi",
        "outputId": "4f89572b-226a-4823-9b81-b4515f06fa4a"
      },
      "outputs": [
        {
          "name": "stdout",
          "output_type": "stream",
          "text": [
            "C1000    17326\n",
            "C2000     6074\n",
            "C1200     4837\n",
            "C3000     1918\n",
            "C2100     1883\n",
            "Other     1003\n",
            "C7000      777\n",
            "C1700      287\n",
            "C4000      194\n",
            "Name: CLASSIFICATION, dtype: int64\n"
          ]
        }
      ],
      "source": [
        "# Choose a cutoff value and create a list of classifications to be replaced\n",
        "# use the variable name `classifications_to_replace`\n",
        "cutoff = 150\n",
        "\n",
        "# Create a list of classifications to be replaced with \"Other\"\n",
        "classification_counts = application_df['CLASSIFICATION'].value_counts()\n",
        "classifications_to_replace = classification_counts[classification_counts < cutoff].index.tolist()\n",
        "\n",
        "# Replace the specified classifications with \"Other\" in the DataFrame\n",
        "for cls in classifications_to_replace:\n",
        "    application_df['CLASSIFICATION'] = application_df['CLASSIFICATION'].replace(cls, \"Other\")\n",
        "\n",
        "# Check to make sure binning was successful\n",
        "print(application_df['CLASSIFICATION'].value_counts())"
      ]
    },
    {
      "cell_type": "code",
      "execution_count": 9,
      "metadata": {
        "id": "74v_qIgEE1p2"
      },
      "outputs": [],
      "source": [
        "# Convert categorical data to numeric with `pd.get_dummies`\n",
        "application_df_encoded = pd.get_dummies(application_df)"
      ]
    },
    {
      "cell_type": "code",
      "execution_count": 10,
      "metadata": {
        "id": "61xEQ-hxE8u6"
      },
      "outputs": [],
      "source": [
        "# Split our preprocessed data into our features and target arrays\n",
        "X = application_df_encoded.drop(\"IS_SUCCESSFUL\", axis=1)\n",
        "y = application_df_encoded[\"IS_SUCCESSFUL\"]\n",
        "\n",
        "# Split the data into training and testing datasets\n",
        "X_train, X_test, y_train, y_test = train_test_split(X, y, random_state=42)"
      ]
    },
    {
      "cell_type": "code",
      "execution_count": 11,
      "metadata": {
        "id": "rrg1Gq1hE-Tt"
      },
      "outputs": [],
      "source": [
        "# Create a StandardScaler instances\n",
        "scaler = StandardScaler()\n",
        "\n",
        "# Fit the StandardScaler\n",
        "X_scaler = scaler.fit(X_train)\n",
        "\n",
        "# Scale the data\n",
        "X_train_scaled = X_scaler.transform(X_train)\n",
        "X_test_scaled = X_scaler.transform(X_test)"
      ]
    },
    {
      "cell_type": "code",
      "execution_count": 14,
      "metadata": {
        "id": "SjSgw-yVObx2"
      },
      "outputs": [],
      "source": [
        "# Define a function to create and train a deep neural network\n",
        "def create_and_train_model(hidden_layer_sizes=(128, 64), alpha=0.0001, dropout_rate=0.5):\n",
        "    model = tf.keras.models.Sequential()\n",
        "    model.add(tf.keras.layers.Dense(units=hidden_layer_sizes[0], activation='relu', input_dim=X_train_scaled.shape[1]))\n",
        "    model.add(tf.keras.layers.Dropout(dropout_rate))\n",
        "    model.add(tf.keras.layers.Dense(units=hidden_layer_sizes[1], activation='relu'))\n",
        "    model.add(tf.keras.layers.Dropout(dropout_rate))\n",
        "    model.add(tf.keras.layers.Dense(units=1, activation='sigmoid'))\n",
        "\n",
        "    model.compile(optimizer='adam', loss='binary_crossentropy', metrics=['accuracy'])\n",
        "\n",
        "    model.fit(X_train_scaled, y_train, epochs=150, verbose=0)\n",
        "\n",
        "    return model\n",
        "\n",
        "\n",
        "# Define hyperparameters to search\n",
        "hyperparameters = {\n",
        "    'hidden_layer_sizes': [(128, 64), (128, 64, 32), (64, 32)],\n",
        "    'alpha': [0.01, 0.001, 0.0001],\n",
        "    'dropout_rate': [0.4, 0.5, 0.6]\n",
        "}\n",
        "\n"
      ]
    },
    {
      "cell_type": "code",
      "execution_count": 19,
      "metadata": {
        "colab": {
          "base_uri": "https://localhost:8080/"
        },
        "id": "z4ry28kKFBd9",
        "outputId": "f1600090-49a1-42d0-aed6-51db089760e6"
      },
      "outputs": [
        {
          "name": "stdout",
          "output_type": "stream",
          "text": [
            "Model: \"sequential_1\"\n",
            "_________________________________________________________________\n",
            " Layer (type)                Output Shape              Param #   \n",
            "=================================================================\n",
            " dense_3 (Dense)             (None, 256)               12032     \n",
            "                                                                 \n",
            " dense_4 (Dense)             (None, 128)               32896     \n",
            "                                                                 \n",
            " dense_5 (Dense)             (None, 1)                 129       \n",
            "                                                                 \n",
            "=================================================================\n",
            "Total params: 45057 (176.00 KB)\n",
            "Trainable params: 45057 (176.00 KB)\n",
            "Non-trainable params: 0 (0.00 Byte)\n",
            "_________________________________________________________________\n"
          ]
        }
      ],
      "source": [
        "# Define the model - deep neural net, i.e., the number of input features and hidden nodes for each layer.\n",
        "nn = tf.keras.models.Sequential()\n",
        "\n",
        "# Number of input features\n",
        "input_features = len(X_train_scaled[0])\n",
        "\n",
        "# First hidden layer with 64 nodes and ReLU activation\n",
        "nn.add(tf.keras.layers.Dense(units=256, activation='relu', input_dim=input_features))\n",
        "\n",
        "# Second hidden layer with 32 nodes and ReLU activation\n",
        "nn.add(tf.keras.layers.Dense(units=128, activation='relu'))\n",
        "\n",
        "# Output layer with one node and sigmoid activation for binary classification\n",
        "nn.add(tf.keras.layers.Dense(units=1, activation='sigmoid'))\n",
        "\n",
        "# Check the structure of the model\n",
        "nn.summary()"
      ]
    },
    {
      "cell_type": "code",
      "execution_count": 20,
      "metadata": {
        "id": "zzIW6UTmFSzB"
      },
      "outputs": [],
      "source": [
        "# Compile the model\n",
        "nn.compile(optimizer='adam', loss='binary_crossentropy', metrics=['accuracy'])"
      ]
    },
    {
      "cell_type": "code",
      "execution_count": 21,
      "metadata": {
        "colab": {
          "base_uri": "https://localhost:8080/"
        },
        "id": "Tif8C0FDFUE1",
        "outputId": "7a9f180b-c283-47c4-a8ea-9bd864709fc1"
      },
      "outputs": [
        {
          "name": "stdout",
          "output_type": "stream",
          "text": [
            "Epoch 1/50\n",
            "804/804 [==============================] - 4s 3ms/step - loss: 0.5699 - accuracy: 0.7213\n",
            "Epoch 2/50\n",
            "804/804 [==============================] - 2s 3ms/step - loss: 0.5546 - accuracy: 0.7297\n",
            "Epoch 3/50\n",
            "804/804 [==============================] - 2s 3ms/step - loss: 0.5511 - accuracy: 0.7314\n",
            "Epoch 4/50\n",
            "804/804 [==============================] - 2s 3ms/step - loss: 0.5496 - accuracy: 0.7314\n",
            "Epoch 5/50\n",
            "804/804 [==============================] - 2s 3ms/step - loss: 0.5481 - accuracy: 0.7317\n",
            "Epoch 6/50\n",
            "804/804 [==============================] - 2s 3ms/step - loss: 0.5473 - accuracy: 0.7329\n",
            "Epoch 7/50\n",
            "804/804 [==============================] - 2s 3ms/step - loss: 0.5460 - accuracy: 0.7332\n",
            "Epoch 8/50\n",
            "804/804 [==============================] - 2s 3ms/step - loss: 0.5452 - accuracy: 0.7332\n",
            "Epoch 9/50\n",
            "804/804 [==============================] - 2s 3ms/step - loss: 0.5444 - accuracy: 0.7330\n",
            "Epoch 10/50\n",
            "804/804 [==============================] - 3s 3ms/step - loss: 0.5446 - accuracy: 0.7343\n",
            "Epoch 11/50\n",
            "804/804 [==============================] - 2s 3ms/step - loss: 0.5436 - accuracy: 0.7341\n",
            "Epoch 12/50\n",
            "804/804 [==============================] - 2s 3ms/step - loss: 0.5428 - accuracy: 0.7347\n",
            "Epoch 13/50\n",
            "804/804 [==============================] - 3s 3ms/step - loss: 0.5425 - accuracy: 0.7350\n",
            "Epoch 14/50\n",
            "804/804 [==============================] - 2s 3ms/step - loss: 0.5413 - accuracy: 0.7365\n",
            "Epoch 15/50\n",
            "804/804 [==============================] - 2s 3ms/step - loss: 0.5419 - accuracy: 0.7354\n",
            "Epoch 16/50\n",
            "804/804 [==============================] - 3s 3ms/step - loss: 0.5410 - accuracy: 0.7360\n",
            "Epoch 17/50\n",
            "804/804 [==============================] - 3s 4ms/step - loss: 0.5412 - accuracy: 0.7361\n",
            "Epoch 18/50\n",
            "804/804 [==============================] - 2s 3ms/step - loss: 0.5402 - accuracy: 0.7375\n",
            "Epoch 19/50\n",
            "804/804 [==============================] - 3s 4ms/step - loss: 0.5406 - accuracy: 0.7369\n",
            "Epoch 20/50\n",
            "804/804 [==============================] - 4s 5ms/step - loss: 0.5400 - accuracy: 0.7364\n",
            "Epoch 21/50\n",
            "804/804 [==============================] - 3s 3ms/step - loss: 0.5397 - accuracy: 0.7380\n",
            "Epoch 22/50\n",
            "804/804 [==============================] - 2s 3ms/step - loss: 0.5391 - accuracy: 0.7378\n",
            "Epoch 23/50\n",
            "804/804 [==============================] - 2s 3ms/step - loss: 0.5386 - accuracy: 0.7374\n",
            "Epoch 24/50\n",
            "804/804 [==============================] - 4s 6ms/step - loss: 0.5387 - accuracy: 0.7374\n",
            "Epoch 25/50\n",
            "804/804 [==============================] - 4s 5ms/step - loss: 0.5386 - accuracy: 0.7369\n",
            "Epoch 26/50\n",
            "804/804 [==============================] - 2s 3ms/step - loss: 0.5385 - accuracy: 0.7368\n",
            "Epoch 27/50\n",
            "804/804 [==============================] - 2s 3ms/step - loss: 0.5382 - accuracy: 0.7376\n",
            "Epoch 28/50\n",
            "804/804 [==============================] - 3s 3ms/step - loss: 0.5382 - accuracy: 0.7372\n",
            "Epoch 29/50\n",
            "804/804 [==============================] - 2s 3ms/step - loss: 0.5381 - accuracy: 0.7376\n",
            "Epoch 30/50\n",
            "804/804 [==============================] - 2s 3ms/step - loss: 0.5377 - accuracy: 0.7379\n",
            "Epoch 31/50\n",
            "804/804 [==============================] - 2s 3ms/step - loss: 0.5369 - accuracy: 0.7382\n",
            "Epoch 32/50\n",
            "804/804 [==============================] - 2s 2ms/step - loss: 0.5370 - accuracy: 0.7378\n",
            "Epoch 33/50\n",
            "804/804 [==============================] - 2s 3ms/step - loss: 0.5366 - accuracy: 0.7381\n",
            "Epoch 34/50\n",
            "804/804 [==============================] - 2s 3ms/step - loss: 0.5366 - accuracy: 0.7391\n",
            "Epoch 35/50\n",
            "804/804 [==============================] - 2s 3ms/step - loss: 0.5372 - accuracy: 0.7386\n",
            "Epoch 36/50\n",
            "804/804 [==============================] - 2s 3ms/step - loss: 0.5366 - accuracy: 0.7391\n",
            "Epoch 37/50\n",
            "804/804 [==============================] - 2s 3ms/step - loss: 0.5359 - accuracy: 0.7389\n",
            "Epoch 38/50\n",
            "804/804 [==============================] - 2s 3ms/step - loss: 0.5354 - accuracy: 0.7391\n",
            "Epoch 39/50\n",
            "804/804 [==============================] - 4s 5ms/step - loss: 0.5358 - accuracy: 0.7392\n",
            "Epoch 40/50\n",
            "804/804 [==============================] - 3s 4ms/step - loss: 0.5350 - accuracy: 0.7393\n",
            "Epoch 41/50\n",
            "804/804 [==============================] - 2s 3ms/step - loss: 0.5357 - accuracy: 0.7394\n",
            "Epoch 42/50\n",
            "804/804 [==============================] - 3s 3ms/step - loss: 0.5355 - accuracy: 0.7397\n",
            "Epoch 43/50\n",
            "804/804 [==============================] - 3s 3ms/step - loss: 0.5349 - accuracy: 0.7395\n",
            "Epoch 44/50\n",
            "804/804 [==============================] - 2s 3ms/step - loss: 0.5352 - accuracy: 0.7399\n",
            "Epoch 45/50\n",
            "804/804 [==============================] - 2s 3ms/step - loss: 0.5375 - accuracy: 0.7396\n",
            "Epoch 46/50\n",
            "804/804 [==============================] - 2s 3ms/step - loss: 0.5349 - accuracy: 0.7395\n",
            "Epoch 47/50\n",
            "804/804 [==============================] - 2s 3ms/step - loss: 0.5346 - accuracy: 0.7399\n",
            "Epoch 48/50\n",
            "804/804 [==============================] - 2s 3ms/step - loss: 0.5344 - accuracy: 0.7399\n",
            "Epoch 49/50\n",
            "804/804 [==============================] - 2s 3ms/step - loss: 0.5338 - accuracy: 0.7393\n",
            "Epoch 50/50\n",
            "804/804 [==============================] - 2s 3ms/step - loss: 0.5345 - accuracy: 0.7397\n"
          ]
        },
        {
          "data": {
            "text/plain": [
              "<keras.src.callbacks.History at 0x14feaac3340>"
            ]
          },
          "execution_count": 21,
          "metadata": {},
          "output_type": "execute_result"
        }
      ],
      "source": [
        "# Train the model\n",
        "nn.fit(X_train_scaled, y_train, epochs=50)"
      ]
    },
    {
      "cell_type": "code",
      "execution_count": 22,
      "metadata": {
        "colab": {
          "base_uri": "https://localhost:8080/"
        },
        "id": "Tj_a51UUFvUg",
        "outputId": "a7d9f5bb-1049-4f8f-e525-0477f7badcff"
      },
      "outputs": [
        {
          "name": "stdout",
          "output_type": "stream",
          "text": [
            "268/268 - 1s - loss: 0.5617 - accuracy: 0.7287 - 657ms/epoch - 2ms/step\n",
            "Loss: 0.5617021322250366, Accuracy: 0.7287463545799255\n"
          ]
        }
      ],
      "source": [
        "# Evaluate the model using the test data\n",
        "model_loss, model_accuracy = nn.evaluate(X_test_scaled,y_test,verbose=2)\n",
        "print(f\"Loss: {model_loss}, Accuracy: {model_accuracy}\")"
      ]
    },
    {
      "cell_type": "code",
      "execution_count": 30,
      "metadata": {},
      "outputs": [
        {
          "name": "stdout",
          "output_type": "stream",
          "text": [
            "Model: \"sequential_4\"\n",
            "_________________________________________________________________\n",
            " Layer (type)                Output Shape              Param #   \n",
            "=================================================================\n",
            " dense_12 (Dense)            (None, 512)               24064     \n",
            "                                                                 \n",
            " dense_13 (Dense)            (None, 256)               131328    \n",
            "                                                                 \n",
            " dense_14 (Dense)            (None, 1)                 257       \n",
            "                                                                 \n",
            "=================================================================\n",
            "Total params: 155649 (608.00 KB)\n",
            "Trainable params: 155649 (608.00 KB)\n",
            "Non-trainable params: 0 (0.00 Byte)\n",
            "_________________________________________________________________\n"
          ]
        }
      ],
      "source": [
        "# Define the model - deep neural net, i.e., the number of input features and hidden nodes for each layer.\n",
        "nn = tf.keras.models.Sequential()\n",
        "\n",
        "# Number of input features\n",
        "input_features = len(X_train_scaled[0])\n",
        "\n",
        "# First hidden layer with 64 nodes and ReLU activation\n",
        "nn.add(tf.keras.layers.Dense(units=512, activation='relu', input_dim=input_features))\n",
        "\n",
        "# Second hidden layer with 32 nodes and ReLU activation\n",
        "nn.add(tf.keras.layers.Dense(units=256, activation='relu'))\n",
        "\n",
        "# Output layer with one node and sigmoid activation for binary classification\n",
        "nn.add(tf.keras.layers.Dense(units=1, activation='sigmoid'))\n",
        "\n",
        "# Check the structure of the model\n",
        "nn.summary()"
      ]
    },
    {
      "cell_type": "code",
      "execution_count": 31,
      "metadata": {},
      "outputs": [],
      "source": [
        "# Compile the model\n",
        "nn.compile(optimizer='adam', loss='binary_crossentropy', metrics=['accuracy'])\n"
      ]
    },
    {
      "cell_type": "code",
      "execution_count": 34,
      "metadata": {},
      "outputs": [
        {
          "name": "stdout",
          "output_type": "stream",
          "text": [
            "Epoch 1/150\n",
            "804/804 [==============================] - 4s 5ms/step - loss: 0.5355 - accuracy: 0.7384\n",
            "Epoch 2/150\n",
            "804/804 [==============================] - 4s 5ms/step - loss: 0.5387 - accuracy: 0.7395\n",
            "Epoch 3/150\n",
            "804/804 [==============================] - 4s 5ms/step - loss: 0.5340 - accuracy: 0.7388\n",
            "Epoch 4/150\n",
            "804/804 [==============================] - 4s 5ms/step - loss: 0.5348 - accuracy: 0.7392\n",
            "Epoch 5/150\n",
            "804/804 [==============================] - 4s 5ms/step - loss: 0.5342 - accuracy: 0.7397\n",
            "Epoch 6/150\n",
            "804/804 [==============================] - 4s 5ms/step - loss: 0.5341 - accuracy: 0.7402\n",
            "Epoch 7/150\n",
            "804/804 [==============================] - 4s 5ms/step - loss: 0.5338 - accuracy: 0.7400\n",
            "Epoch 8/150\n",
            "804/804 [==============================] - 4s 5ms/step - loss: 0.5347 - accuracy: 0.7394\n",
            "Epoch 9/150\n",
            "804/804 [==============================] - 4s 5ms/step - loss: 0.5345 - accuracy: 0.7397\n",
            "Epoch 10/150\n",
            "804/804 [==============================] - 4s 5ms/step - loss: 0.5339 - accuracy: 0.7400\n",
            "Epoch 11/150\n",
            "804/804 [==============================] - 4s 5ms/step - loss: 0.5345 - accuracy: 0.7398\n",
            "Epoch 12/150\n",
            "804/804 [==============================] - 4s 5ms/step - loss: 0.5341 - accuracy: 0.7401\n",
            "Epoch 13/150\n",
            "804/804 [==============================] - 4s 5ms/step - loss: 0.5337 - accuracy: 0.7395\n",
            "Epoch 14/150\n",
            "804/804 [==============================] - 4s 5ms/step - loss: 0.5335 - accuracy: 0.7405\n",
            "Epoch 15/150\n",
            "804/804 [==============================] - 4s 5ms/step - loss: 0.5348 - accuracy: 0.7389\n",
            "Epoch 16/150\n",
            "804/804 [==============================] - 5s 6ms/step - loss: 0.5358 - accuracy: 0.7404\n",
            "Epoch 17/150\n",
            "804/804 [==============================] - 4s 5ms/step - loss: 0.5350 - accuracy: 0.7403\n",
            "Epoch 18/150\n",
            "804/804 [==============================] - 4s 4ms/step - loss: 0.5367 - accuracy: 0.7402\n",
            "Epoch 19/150\n",
            "804/804 [==============================] - 5s 6ms/step - loss: 0.5337 - accuracy: 0.7400\n",
            "Epoch 20/150\n",
            "804/804 [==============================] - 5s 6ms/step - loss: 0.5338 - accuracy: 0.7402\n",
            "Epoch 21/150\n",
            "804/804 [==============================] - 4s 5ms/step - loss: 0.5330 - accuracy: 0.7399\n",
            "Epoch 22/150\n",
            "804/804 [==============================] - 5s 6ms/step - loss: 0.5329 - accuracy: 0.7404\n",
            "Epoch 23/150\n",
            "804/804 [==============================] - 3s 4ms/step - loss: 0.5332 - accuracy: 0.7399\n",
            "Epoch 24/150\n",
            "804/804 [==============================] - 3s 4ms/step - loss: 0.5335 - accuracy: 0.7401\n",
            "Epoch 25/150\n",
            "804/804 [==============================] - 4s 5ms/step - loss: 0.5332 - accuracy: 0.7403\n",
            "Epoch 26/150\n",
            "804/804 [==============================] - 4s 5ms/step - loss: 0.5327 - accuracy: 0.7402\n",
            "Epoch 27/150\n",
            "804/804 [==============================] - 4s 5ms/step - loss: 0.5345 - accuracy: 0.7398\n",
            "Epoch 28/150\n",
            "804/804 [==============================] - 4s 5ms/step - loss: 0.5327 - accuracy: 0.7399\n",
            "Epoch 29/150\n",
            "804/804 [==============================] - 4s 5ms/step - loss: 0.5330 - accuracy: 0.7402\n",
            "Epoch 30/150\n",
            "804/804 [==============================] - 4s 5ms/step - loss: 0.5325 - accuracy: 0.7404\n",
            "Epoch 31/150\n",
            "804/804 [==============================] - 4s 5ms/step - loss: 0.5325 - accuracy: 0.7411\n",
            "Epoch 32/150\n",
            "804/804 [==============================] - 4s 5ms/step - loss: 0.5335 - accuracy: 0.7400\n",
            "Epoch 33/150\n",
            "804/804 [==============================] - 4s 5ms/step - loss: 0.5326 - accuracy: 0.7407\n",
            "Epoch 34/150\n",
            "804/804 [==============================] - 4s 5ms/step - loss: 0.5330 - accuracy: 0.7405\n",
            "Epoch 35/150\n",
            "804/804 [==============================] - 4s 5ms/step - loss: 0.5346 - accuracy: 0.7405\n",
            "Epoch 36/150\n",
            "804/804 [==============================] - 4s 5ms/step - loss: 0.5320 - accuracy: 0.7409\n",
            "Epoch 37/150\n",
            "804/804 [==============================] - 4s 5ms/step - loss: 0.5324 - accuracy: 0.7402\n",
            "Epoch 38/150\n",
            "804/804 [==============================] - 4s 5ms/step - loss: 0.5324 - accuracy: 0.7406\n",
            "Epoch 39/150\n",
            "804/804 [==============================] - 4s 5ms/step - loss: 0.5326 - accuracy: 0.7410\n",
            "Epoch 40/150\n",
            "804/804 [==============================] - 4s 5ms/step - loss: 0.5321 - accuracy: 0.7410\n",
            "Epoch 41/150\n",
            "804/804 [==============================] - 4s 5ms/step - loss: 0.5325 - accuracy: 0.7403\n",
            "Epoch 42/150\n",
            "804/804 [==============================] - 4s 5ms/step - loss: 0.5325 - accuracy: 0.7402\n",
            "Epoch 43/150\n",
            "804/804 [==============================] - 4s 5ms/step - loss: 0.5325 - accuracy: 0.7411\n",
            "Epoch 44/150\n",
            "804/804 [==============================] - 4s 5ms/step - loss: 0.5319 - accuracy: 0.7405\n",
            "Epoch 45/150\n",
            "804/804 [==============================] - 4s 5ms/step - loss: 0.5339 - accuracy: 0.7406\n",
            "Epoch 46/150\n",
            "804/804 [==============================] - 4s 5ms/step - loss: 0.5326 - accuracy: 0.7406\n",
            "Epoch 47/150\n",
            "804/804 [==============================] - 4s 5ms/step - loss: 0.5322 - accuracy: 0.7411\n",
            "Epoch 48/150\n",
            "804/804 [==============================] - 4s 5ms/step - loss: 0.5327 - accuracy: 0.7414\n",
            "Epoch 49/150\n",
            "804/804 [==============================] - 4s 5ms/step - loss: 0.5320 - accuracy: 0.7411\n",
            "Epoch 50/150\n",
            "804/804 [==============================] - 4s 5ms/step - loss: 0.5318 - accuracy: 0.7412\n",
            "Epoch 51/150\n",
            "804/804 [==============================] - 4s 5ms/step - loss: 0.5336 - accuracy: 0.7413\n",
            "Epoch 52/150\n",
            "804/804 [==============================] - 4s 5ms/step - loss: 0.5320 - accuracy: 0.7409\n",
            "Epoch 53/150\n",
            "804/804 [==============================] - 4s 5ms/step - loss: 0.5318 - accuracy: 0.7411\n",
            "Epoch 54/150\n",
            "804/804 [==============================] - 4s 5ms/step - loss: 0.5328 - accuracy: 0.7409\n",
            "Epoch 55/150\n",
            "804/804 [==============================] - 4s 5ms/step - loss: 0.5318 - accuracy: 0.7410\n",
            "Epoch 56/150\n",
            "804/804 [==============================] - 4s 5ms/step - loss: 0.5318 - accuracy: 0.7411\n",
            "Epoch 57/150\n",
            "804/804 [==============================] - 4s 5ms/step - loss: 0.5335 - accuracy: 0.7411\n",
            "Epoch 58/150\n",
            "804/804 [==============================] - 4s 5ms/step - loss: 0.5317 - accuracy: 0.7412\n",
            "Epoch 59/150\n",
            "804/804 [==============================] - 4s 5ms/step - loss: 0.5317 - accuracy: 0.7413\n",
            "Epoch 60/150\n",
            "804/804 [==============================] - 4s 5ms/step - loss: 0.5312 - accuracy: 0.7412\n",
            "Epoch 61/150\n",
            "804/804 [==============================] - 4s 5ms/step - loss: 0.5314 - accuracy: 0.7407\n",
            "Epoch 62/150\n",
            "804/804 [==============================] - 4s 5ms/step - loss: 0.5320 - accuracy: 0.7408\n",
            "Epoch 63/150\n",
            "804/804 [==============================] - 4s 5ms/step - loss: 0.5320 - accuracy: 0.7412\n",
            "Epoch 64/150\n",
            "804/804 [==============================] - 4s 5ms/step - loss: 0.5311 - accuracy: 0.7411\n",
            "Epoch 65/150\n",
            "804/804 [==============================] - 4s 5ms/step - loss: 0.5312 - accuracy: 0.7407\n",
            "Epoch 66/150\n",
            "804/804 [==============================] - 4s 5ms/step - loss: 0.5322 - accuracy: 0.7406\n",
            "Epoch 67/150\n",
            "804/804 [==============================] - 4s 5ms/step - loss: 0.5333 - accuracy: 0.7411\n",
            "Epoch 68/150\n",
            "804/804 [==============================] - 4s 5ms/step - loss: 0.5312 - accuracy: 0.7408\n",
            "Epoch 69/150\n",
            "804/804 [==============================] - 4s 5ms/step - loss: 0.5314 - accuracy: 0.7410\n",
            "Epoch 70/150\n",
            "804/804 [==============================] - 4s 5ms/step - loss: 0.5315 - accuracy: 0.7417\n",
            "Epoch 71/150\n",
            "804/804 [==============================] - 4s 5ms/step - loss: 0.5309 - accuracy: 0.7411\n",
            "Epoch 72/150\n",
            "804/804 [==============================] - 4s 5ms/step - loss: 0.5312 - accuracy: 0.7409\n",
            "Epoch 73/150\n",
            "804/804 [==============================] - 4s 5ms/step - loss: 0.5309 - accuracy: 0.7405\n",
            "Epoch 74/150\n",
            "804/804 [==============================] - 4s 5ms/step - loss: 0.5305 - accuracy: 0.7411\n",
            "Epoch 75/150\n",
            "804/804 [==============================] - 4s 5ms/step - loss: 0.5313 - accuracy: 0.7412\n",
            "Epoch 76/150\n",
            "804/804 [==============================] - 4s 5ms/step - loss: 0.5356 - accuracy: 0.7412\n",
            "Epoch 77/150\n",
            "804/804 [==============================] - 4s 5ms/step - loss: 0.5302 - accuracy: 0.7411\n",
            "Epoch 78/150\n",
            "804/804 [==============================] - 4s 5ms/step - loss: 0.5562 - accuracy: 0.7406\n",
            "Epoch 79/150\n",
            "804/804 [==============================] - 4s 5ms/step - loss: 0.5352 - accuracy: 0.7400\n",
            "Epoch 80/150\n",
            "804/804 [==============================] - 4s 5ms/step - loss: 0.5302 - accuracy: 0.7406\n",
            "Epoch 81/150\n",
            "804/804 [==============================] - 4s 5ms/step - loss: 0.5314 - accuracy: 0.7413\n",
            "Epoch 82/150\n",
            "804/804 [==============================] - 4s 5ms/step - loss: 0.5299 - accuracy: 0.7409\n",
            "Epoch 83/150\n",
            "804/804 [==============================] - 4s 5ms/step - loss: 0.5297 - accuracy: 0.7414\n",
            "Epoch 84/150\n",
            "804/804 [==============================] - 4s 5ms/step - loss: 0.5305 - accuracy: 0.7413\n",
            "Epoch 85/150\n",
            "804/804 [==============================] - 4s 5ms/step - loss: 0.5305 - accuracy: 0.7416\n",
            "Epoch 86/150\n",
            "804/804 [==============================] - 4s 5ms/step - loss: 0.5306 - accuracy: 0.7412\n",
            "Epoch 87/150\n",
            "804/804 [==============================] - 4s 5ms/step - loss: 0.5308 - accuracy: 0.7416\n",
            "Epoch 88/150\n",
            "804/804 [==============================] - 4s 5ms/step - loss: 0.5314 - accuracy: 0.7408\n",
            "Epoch 89/150\n",
            "804/804 [==============================] - 4s 5ms/step - loss: 0.5311 - accuracy: 0.7415\n",
            "Epoch 90/150\n",
            "804/804 [==============================] - 4s 5ms/step - loss: 0.5305 - accuracy: 0.7409\n",
            "Epoch 91/150\n",
            "804/804 [==============================] - 4s 5ms/step - loss: 0.5315 - accuracy: 0.7415\n",
            "Epoch 92/150\n",
            "804/804 [==============================] - 5s 6ms/step - loss: 0.5315 - accuracy: 0.7405\n",
            "Epoch 93/150\n",
            "804/804 [==============================] - 4s 5ms/step - loss: 0.5311 - accuracy: 0.7413\n",
            "Epoch 94/150\n",
            "804/804 [==============================] - 4s 5ms/step - loss: 0.5309 - accuracy: 0.7402\n",
            "Epoch 95/150\n",
            "804/804 [==============================] - 4s 5ms/step - loss: 0.5330 - accuracy: 0.7407\n",
            "Epoch 96/150\n",
            "804/804 [==============================] - 4s 5ms/step - loss: 0.5312 - accuracy: 0.7411\n",
            "Epoch 97/150\n",
            "804/804 [==============================] - 4s 5ms/step - loss: 0.5299 - accuracy: 0.7416\n",
            "Epoch 98/150\n",
            "804/804 [==============================] - 4s 5ms/step - loss: 0.5307 - accuracy: 0.7413\n",
            "Epoch 99/150\n",
            "804/804 [==============================] - 4s 5ms/step - loss: 0.5310 - accuracy: 0.7415\n",
            "Epoch 100/150\n",
            "804/804 [==============================] - 4s 5ms/step - loss: 0.5306 - accuracy: 0.7408\n",
            "Epoch 101/150\n",
            "804/804 [==============================] - 4s 5ms/step - loss: 0.5311 - accuracy: 0.7414\n",
            "Epoch 102/150\n",
            "804/804 [==============================] - 4s 5ms/step - loss: 0.5301 - accuracy: 0.7407\n",
            "Epoch 103/150\n",
            "804/804 [==============================] - 4s 5ms/step - loss: 0.5325 - accuracy: 0.7408\n",
            "Epoch 104/150\n",
            "804/804 [==============================] - 4s 5ms/step - loss: 0.5304 - accuracy: 0.7411\n",
            "Epoch 105/150\n",
            "804/804 [==============================] - 4s 5ms/step - loss: 0.5327 - accuracy: 0.7413\n",
            "Epoch 106/150\n",
            "804/804 [==============================] - 4s 5ms/step - loss: 0.5301 - accuracy: 0.7413\n",
            "Epoch 107/150\n",
            "804/804 [==============================] - 4s 5ms/step - loss: 0.5304 - accuracy: 0.7416\n",
            "Epoch 108/150\n",
            "804/804 [==============================] - 4s 5ms/step - loss: 0.5305 - accuracy: 0.7416\n",
            "Epoch 109/150\n",
            "804/804 [==============================] - 4s 5ms/step - loss: 0.5308 - accuracy: 0.7415\n",
            "Epoch 110/150\n",
            "804/804 [==============================] - 4s 5ms/step - loss: 0.5306 - accuracy: 0.7410\n",
            "Epoch 111/150\n",
            "804/804 [==============================] - 4s 5ms/step - loss: 0.5310 - accuracy: 0.7414\n",
            "Epoch 112/150\n",
            "804/804 [==============================] - 4s 5ms/step - loss: 0.5299 - accuracy: 0.7411\n",
            "Epoch 113/150\n",
            "804/804 [==============================] - 4s 5ms/step - loss: 0.5300 - accuracy: 0.7414\n",
            "Epoch 114/150\n",
            "804/804 [==============================] - 4s 5ms/step - loss: 0.5295 - accuracy: 0.7416\n",
            "Epoch 115/150\n",
            "804/804 [==============================] - 4s 5ms/step - loss: 0.5317 - accuracy: 0.7413\n",
            "Epoch 116/150\n",
            "804/804 [==============================] - 4s 5ms/step - loss: 0.5325 - accuracy: 0.7412\n",
            "Epoch 117/150\n",
            "804/804 [==============================] - 4s 5ms/step - loss: 0.5343 - accuracy: 0.7414\n",
            "Epoch 118/150\n",
            "804/804 [==============================] - 4s 5ms/step - loss: 0.5297 - accuracy: 0.7415\n",
            "Epoch 119/150\n",
            "804/804 [==============================] - 4s 5ms/step - loss: 0.5298 - accuracy: 0.7411\n",
            "Epoch 120/150\n",
            "804/804 [==============================] - 4s 5ms/step - loss: 0.5301 - accuracy: 0.7415\n",
            "Epoch 121/150\n",
            "804/804 [==============================] - 4s 5ms/step - loss: 0.5309 - accuracy: 0.7409\n",
            "Epoch 122/150\n",
            "804/804 [==============================] - 4s 5ms/step - loss: 0.5305 - accuracy: 0.7418\n",
            "Epoch 123/150\n",
            "804/804 [==============================] - 4s 5ms/step - loss: 0.5303 - accuracy: 0.7414\n",
            "Epoch 124/150\n",
            "804/804 [==============================] - 4s 5ms/step - loss: 0.5295 - accuracy: 0.7413\n",
            "Epoch 125/150\n",
            "804/804 [==============================] - 4s 6ms/step - loss: 0.5299 - accuracy: 0.7412\n",
            "Epoch 126/150\n",
            "804/804 [==============================] - 4s 5ms/step - loss: 0.5296 - accuracy: 0.7414\n",
            "Epoch 127/150\n",
            "804/804 [==============================] - 4s 5ms/step - loss: 0.5301 - accuracy: 0.7416\n",
            "Epoch 128/150\n",
            "804/804 [==============================] - 4s 5ms/step - loss: 0.5301 - accuracy: 0.7416\n",
            "Epoch 129/150\n",
            "804/804 [==============================] - 4s 5ms/step - loss: 0.5306 - accuracy: 0.7420\n",
            "Epoch 130/150\n",
            "804/804 [==============================] - 5s 6ms/step - loss: 0.5330 - accuracy: 0.7419\n",
            "Epoch 131/150\n",
            "804/804 [==============================] - 4s 5ms/step - loss: 0.5295 - accuracy: 0.7418\n",
            "Epoch 132/150\n",
            "804/804 [==============================] - 4s 5ms/step - loss: 0.5296 - accuracy: 0.7419\n",
            "Epoch 133/150\n",
            "804/804 [==============================] - 4s 5ms/step - loss: 0.5320 - accuracy: 0.7416\n",
            "Epoch 134/150\n",
            "804/804 [==============================] - 4s 5ms/step - loss: 0.5301 - accuracy: 0.7416\n",
            "Epoch 135/150\n",
            "804/804 [==============================] - 4s 5ms/step - loss: 0.5303 - accuracy: 0.7416\n",
            "Epoch 136/150\n",
            "804/804 [==============================] - 4s 5ms/step - loss: 0.5303 - accuracy: 0.7421\n",
            "Epoch 137/150\n",
            "804/804 [==============================] - 4s 5ms/step - loss: 0.5301 - accuracy: 0.7417\n",
            "Epoch 138/150\n",
            "804/804 [==============================] - 4s 5ms/step - loss: 0.5295 - accuracy: 0.7417\n",
            "Epoch 139/150\n",
            "804/804 [==============================] - 4s 5ms/step - loss: 0.5298 - accuracy: 0.7420\n",
            "Epoch 140/150\n",
            "804/804 [==============================] - 4s 5ms/step - loss: 0.5313 - accuracy: 0.7415\n",
            "Epoch 141/150\n",
            "804/804 [==============================] - 4s 5ms/step - loss: 0.5311 - accuracy: 0.7412\n",
            "Epoch 142/150\n",
            "804/804 [==============================] - 4s 5ms/step - loss: 0.5307 - accuracy: 0.7415\n",
            "Epoch 143/150\n",
            "804/804 [==============================] - 4s 5ms/step - loss: 0.5305 - accuracy: 0.7405\n",
            "Epoch 144/150\n",
            "804/804 [==============================] - 4s 5ms/step - loss: 0.5301 - accuracy: 0.7412\n",
            "Epoch 145/150\n",
            "804/804 [==============================] - 4s 5ms/step - loss: 0.5302 - accuracy: 0.7423\n",
            "Epoch 146/150\n",
            "804/804 [==============================] - 4s 5ms/step - loss: 0.5299 - accuracy: 0.7416\n",
            "Epoch 147/150\n",
            "804/804 [==============================] - 4s 5ms/step - loss: 0.5296 - accuracy: 0.7418\n",
            "Epoch 148/150\n",
            "804/804 [==============================] - 4s 5ms/step - loss: 0.5297 - accuracy: 0.7420\n",
            "Epoch 149/150\n",
            "804/804 [==============================] - 4s 5ms/step - loss: 0.5296 - accuracy: 0.7419\n",
            "Epoch 150/150\n",
            "804/804 [==============================] - 4s 5ms/step - loss: 0.5299 - accuracy: 0.7414\n"
          ]
        },
        {
          "data": {
            "text/plain": [
              "<keras.src.callbacks.History at 0x14ff6859750>"
            ]
          },
          "execution_count": 34,
          "metadata": {},
          "output_type": "execute_result"
        }
      ],
      "source": [
        "# Train the model\n",
        "nn.fit(X_train_scaled, y_train, epochs=150)"
      ]
    },
    {
      "cell_type": "code",
      "execution_count": 35,
      "metadata": {},
      "outputs": [
        {
          "name": "stdout",
          "output_type": "stream",
          "text": [
            "268/268 - 1s - loss: 0.6121 - accuracy: 0.7315 - 527ms/epoch - 2ms/step\n",
            "Loss: 0.6120955348014832, Accuracy: 0.7315452098846436\n"
          ]
        }
      ],
      "source": [
        "# Evaluate the model using the test data\n",
        "model_loss, model_accuracy = nn.evaluate(X_test_scaled,y_test,verbose=2)\n",
        "print(f\"Loss: {model_loss}, Accuracy: {model_accuracy}\")"
      ]
    },
    {
      "cell_type": "code",
      "execution_count": 36,
      "metadata": {},
      "outputs": [
        {
          "name": "stderr",
          "output_type": "stream",
          "text": [
            "c:\\Users\\cnlam\\anaconda3.10\\envs\\dev\\lib\\site-packages\\keras\\src\\engine\\training.py:3000: UserWarning: You are saving your model as an HDF5 file via `model.save()`. This file format is considered legacy. We recommend using instead the native Keras format, e.g. `model.save('my_model.keras')`.\n",
            "  saving_api.save_model(\n"
          ]
        }
      ],
      "source": [
        "# Export our model to HDF5 file\n",
        "nn.save(\"AlphabetSoupCharity_Optimization.h5\")"
      ]
    }
  ],
  "metadata": {
    "colab": {
      "provenance": []
    },
    "kernelspec": {
      "display_name": "Python 3",
      "name": "python3"
    },
    "language_info": {
      "codemirror_mode": {
        "name": "ipython",
        "version": 3
      },
      "file_extension": ".py",
      "mimetype": "text/x-python",
      "name": "python",
      "nbconvert_exporter": "python",
      "pygments_lexer": "ipython3",
      "version": "3.10.11"
    }
  },
  "nbformat": 4,
  "nbformat_minor": 0
}
